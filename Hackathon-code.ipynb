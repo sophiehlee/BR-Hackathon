{
 "cells": [
  {
   "cell_type": "code",
   "execution_count": 1,
   "metadata": {},
   "outputs": [],
   "source": [
    "import numpy as np\n",
    "import pandas as pd\n",
    "import seaborn as sns\n",
    "import matplotlib.pyplot as plt\n",
    "%matplotlib inline"
   ]
  },
  {
   "cell_type": "code",
   "execution_count": 2,
   "metadata": {},
   "outputs": [],
   "source": [
    "df = pd.read_csv(\"C:/Users/Sophie/Desktop/311_Citizen_Requests_for_Service.csv\")"
   ]
  },
  {
   "cell_type": "code",
   "execution_count": 3,
   "metadata": {},
   "outputs": [
    {
     "data": {
      "text/html": [
       "<div>\n",
       "<style scoped>\n",
       "    .dataframe tbody tr th:only-of-type {\n",
       "        vertical-align: middle;\n",
       "    }\n",
       "\n",
       "    .dataframe tbody tr th {\n",
       "        vertical-align: top;\n",
       "    }\n",
       "\n",
       "    .dataframe thead th {\n",
       "        text-align: right;\n",
       "    }\n",
       "</style>\n",
       "<table border=\"1\" class=\"dataframe\">\n",
       "  <thead>\n",
       "    <tr style=\"text-align: right;\">\n",
       "      <th></th>\n",
       "      <th>SERVICE REQUEST ID</th>\n",
       "      <th>STATUS</th>\n",
       "      <th>CREATE DATE</th>\n",
       "      <th>CLOSE DATE</th>\n",
       "      <th>LAST ACTION DATE</th>\n",
       "      <th>PARENT TYPE</th>\n",
       "      <th>TYPE</th>\n",
       "      <th>COMMENTS</th>\n",
       "      <th>STREET NUMBER</th>\n",
       "      <th>STREET NAME</th>\n",
       "      <th>...</th>\n",
       "      <th>Council District (Shapefile)</th>\n",
       "      <th>Neighborhood_BC</th>\n",
       "      <th>Council Districts</th>\n",
       "      <th>Neighborhoods</th>\n",
       "      <th>Shape tqy7 429i</th>\n",
       "      <th>Baton Rouge Council Districts</th>\n",
       "      <th>ZIP Codes</th>\n",
       "      <th>Council Districts_from_9v63_zwfd</th>\n",
       "      <th>Neighborhoods_from_qfmj_2fwi</th>\n",
       "      <th>ZIP Codes_from_tqy7_429i</th>\n",
       "    </tr>\n",
       "  </thead>\n",
       "  <tbody>\n",
       "    <tr>\n",
       "      <th>0</th>\n",
       "      <td>504305</td>\n",
       "      <td>OPEN</td>\n",
       "      <td>04/29/2019 01:19:00 AM</td>\n",
       "      <td>NaN</td>\n",
       "      <td>04/29/2019 01:19:00 AM</td>\n",
       "      <td>GARBAGE</td>\n",
       "      <td>MISSED GARBAGE SERVICE DAY (GENERAL PICK-UP)</td>\n",
       "      <td>GARBAGE SERVICE FOR SOUTHERN HEIGHTS SUBDIVISI...</td>\n",
       "      <td>NaN</td>\n",
       "      <td>NaN</td>\n",
       "      <td>...</td>\n",
       "      <td>NaN</td>\n",
       "      <td>NaN</td>\n",
       "      <td>NaN</td>\n",
       "      <td>NaN</td>\n",
       "      <td>NaN</td>\n",
       "      <td>NaN</td>\n",
       "      <td>NaN</td>\n",
       "      <td>NaN</td>\n",
       "      <td>NaN</td>\n",
       "      <td>NaN</td>\n",
       "    </tr>\n",
       "    <tr>\n",
       "      <th>1</th>\n",
       "      <td>504304</td>\n",
       "      <td>OPEN</td>\n",
       "      <td>04/28/2019 10:47:00 PM</td>\n",
       "      <td>NaN</td>\n",
       "      <td>04/28/2019 10:47:00 PM</td>\n",
       "      <td>SEWER/WASTEWATER</td>\n",
       "      <td>PUMP STATION FAILURE</td>\n",
       "      <td>WE HAVE A MANHOLE LEVEL MONITOR LOCATED IN MH#...</td>\n",
       "      <td>7544</td>\n",
       "      <td>RICHARDS DR</td>\n",
       "      <td>...</td>\n",
       "      <td>11.0</td>\n",
       "      <td>19.0</td>\n",
       "      <td>11.0</td>\n",
       "      <td>16.0</td>\n",
       "      <td>24.0</td>\n",
       "      <td>11.0</td>\n",
       "      <td>26.0</td>\n",
       "      <td>11.0</td>\n",
       "      <td>17.0</td>\n",
       "      <td>26.0</td>\n",
       "    </tr>\n",
       "    <tr>\n",
       "      <th>2</th>\n",
       "      <td>504303</td>\n",
       "      <td>OPEN</td>\n",
       "      <td>04/28/2019 09:48:00 PM</td>\n",
       "      <td>NaN</td>\n",
       "      <td>04/28/2019 09:48:00 PM</td>\n",
       "      <td>GARBAGE</td>\n",
       "      <td>MISSED GARBAGE SERVICE DAY (GENERAL PICK-UP)</td>\n",
       "      <td>MY GARBAGE CAN WAS PLACED AT END OF MY DRIVEWA...</td>\n",
       "      <td>11018</td>\n",
       "      <td>TOLEDO BEND AVE</td>\n",
       "      <td>...</td>\n",
       "      <td>5.0</td>\n",
       "      <td>1.0</td>\n",
       "      <td>5.0</td>\n",
       "      <td>57.0</td>\n",
       "      <td>25.0</td>\n",
       "      <td>5.0</td>\n",
       "      <td>2.0</td>\n",
       "      <td>5.0</td>\n",
       "      <td>18.0</td>\n",
       "      <td>2.0</td>\n",
       "    </tr>\n",
       "  </tbody>\n",
       "</table>\n",
       "<p>3 rows × 34 columns</p>\n",
       "</div>"
      ],
      "text/plain": [
       "   SERVICE REQUEST ID STATUS             CREATE DATE CLOSE DATE  \\\n",
       "0              504305   OPEN  04/29/2019 01:19:00 AM        NaN   \n",
       "1              504304   OPEN  04/28/2019 10:47:00 PM        NaN   \n",
       "2              504303   OPEN  04/28/2019 09:48:00 PM        NaN   \n",
       "\n",
       "         LAST ACTION DATE       PARENT TYPE  \\\n",
       "0  04/29/2019 01:19:00 AM           GARBAGE   \n",
       "1  04/28/2019 10:47:00 PM  SEWER/WASTEWATER   \n",
       "2  04/28/2019 09:48:00 PM           GARBAGE   \n",
       "\n",
       "                                           TYPE  \\\n",
       "0  MISSED GARBAGE SERVICE DAY (GENERAL PICK-UP)   \n",
       "1                          PUMP STATION FAILURE   \n",
       "2  MISSED GARBAGE SERVICE DAY (GENERAL PICK-UP)   \n",
       "\n",
       "                                            COMMENTS STREET NUMBER  \\\n",
       "0  GARBAGE SERVICE FOR SOUTHERN HEIGHTS SUBDIVISI...           NaN   \n",
       "1  WE HAVE A MANHOLE LEVEL MONITOR LOCATED IN MH#...          7544   \n",
       "2  MY GARBAGE CAN WAS PLACED AT END OF MY DRIVEWA...         11018   \n",
       "\n",
       "       STREET NAME  ... Council District (Shapefile) Neighborhood_BC  \\\n",
       "0              NaN  ...                          NaN             NaN   \n",
       "1      RICHARDS DR  ...                         11.0            19.0   \n",
       "2  TOLEDO BEND AVE  ...                          5.0             1.0   \n",
       "\n",
       "  Council Districts Neighborhoods Shape tqy7 429i  \\\n",
       "0               NaN           NaN             NaN   \n",
       "1              11.0          16.0            24.0   \n",
       "2               5.0          57.0            25.0   \n",
       "\n",
       "   Baton Rouge Council Districts  ZIP Codes Council Districts_from_9v63_zwfd  \\\n",
       "0                            NaN        NaN                              NaN   \n",
       "1                           11.0       26.0                             11.0   \n",
       "2                            5.0        2.0                              5.0   \n",
       "\n",
       "   Neighborhoods_from_qfmj_2fwi  ZIP Codes_from_tqy7_429i  \n",
       "0                           NaN                       NaN  \n",
       "1                          17.0                      26.0  \n",
       "2                          18.0                       2.0  \n",
       "\n",
       "[3 rows x 34 columns]"
      ]
     },
     "execution_count": 3,
     "metadata": {},
     "output_type": "execute_result"
    }
   ],
   "source": [
    "df.head(3)"
   ]
  },
  {
   "cell_type": "code",
   "execution_count": 4,
   "metadata": {},
   "outputs": [
    {
     "data": {
      "text/plain": [
       "SERVICE REQUEST ID                       0\n",
       "STATUS                                   0\n",
       "CREATE DATE                              0\n",
       "CLOSE DATE                           25398\n",
       "LAST ACTION DATE                         0\n",
       "PARENT TYPE                              0\n",
       "TYPE                                     0\n",
       "COMMENTS                              5785\n",
       "STREET NUMBER                        38098\n",
       "STREET NAME                           3229\n",
       "FULL ADDRESS                          2555\n",
       "CROSS STREET                        261811\n",
       "CITY                                     0\n",
       "DEPARTMENT                               0\n",
       "DIVISION                                 0\n",
       "LATITUDE                                 0\n",
       "LONGITUDE                                0\n",
       "GEOLOCATION                              0\n",
       "TYPEI D                                  0\n",
       "PARENT ID                                0\n",
       "DEPTDIV ID                               0\n",
       "DEPARTMENT-DIVISION NAME                 0\n",
       "STATUS ID                                0\n",
       "Zip Codes                             2636\n",
       "Council District (Shapefile)          3073\n",
       "Neighborhood_BC                       3075\n",
       "Council Districts                     3073\n",
       "Neighborhoods                         3075\n",
       "Shape tqy7 429i                       3073\n",
       "Baton Rouge Council Districts         3073\n",
       "ZIP Codes                             3073\n",
       "Council Districts_from_9v63_zwfd      3073\n",
       "Neighborhoods_from_qfmj_2fwi          3075\n",
       "ZIP Codes_from_tqy7_429i              3073\n",
       "dtype: int64"
      ]
     },
     "execution_count": 4,
     "metadata": {},
     "output_type": "execute_result"
    }
   ],
   "source": [
    "df.isnull().sum()"
   ]
  },
  {
   "cell_type": "code",
   "execution_count": 5,
   "metadata": {},
   "outputs": [],
   "source": [
    "# Visualizing the number of blighted properties from 2016 to present"
   ]
  },
  {
   "cell_type": "code",
   "execution_count": 6,
   "metadata": {},
   "outputs": [
    {
     "data": {
      "text/plain": [
       "array(['GARBAGE', 'SEWER/WASTEWATER', 'MOWING AND TREE ISSUES',\n",
       "       'STREET/TRAFFIC ISSUES', 'ROAD MAINTENANCE ISSUES',\n",
       "       'DRAINAGE, EROSION, FLOODING OR HOLES', 'RECYCLING',\n",
       "       'BLIGHTED PROPERTIES', 'NEIGHBORHOOD/SUBDIVISION ISSUES',\n",
       "       'CODE VIOLATIONS', 'ENVIRONMENTAL ISSUES'], dtype=object)"
      ]
     },
     "execution_count": 6,
     "metadata": {},
     "output_type": "execute_result"
    }
   ],
   "source": [
    "df['PARENT TYPE'].unique()"
   ]
  },
  {
   "cell_type": "code",
   "execution_count": 7,
   "metadata": {},
   "outputs": [
    {
     "data": {
      "text/plain": [
       "array(['MISSED GARBAGE SERVICE DAY (GENERAL PICK-UP)',\n",
       "       'PUMP STATION FAILURE', 'DAMAGED GARBAGE CART',\n",
       "       'REQUEST REMOVAL/TRIMMING OF TREE', 'REQUEST FOR MOWING',\n",
       "       'REQUEST TRAFFIC SIGN', 'MAJOR SIGNAL ISSUE', 'OUTSIDE OVERFLOW',\n",
       "       'REPAIR A BIKE PATH', 'STANDING WATER',\n",
       "       'MISSED WOODY WASTE SERVICE', 'MISSED RECYCLING SERVICE',\n",
       "       'REQUEST DEBRIS REMOVAL - UNOCCUPIED PROPERTY',\n",
       "       'JUNK, INOPERABLE, OR ABANDONED VEHICLE',\n",
       "       'REQUEST PICK-UP OF UNWANTED GARBAGE CART', 'MISSING GARBAGE CART',\n",
       "       'MISSED HANDPILE SERVICE', 'PIPE REPAIRS NEEDED', 'MANHOLE ISSUE',\n",
       "       'ROADSIDE DRAINAGE ISSUE', 'TREE IN ROAD',\n",
       "       'INSIDE RESIDENTIAL BACKUP', 'LIBERTY PUMP ISSUE',\n",
       "       'FENCE LINE/SERVITUDE ISSUES', 'DAMAGED TRAFFIC SIGN',\n",
       "       'TALL GRASS', 'INSIDE COMMERCIAL BACKUP',\n",
       "       'REQUEST ADDITIONAL RECYCLING CART', 'DAMAGED RECYCLING CART',\n",
       "       'REQUEST A BARRICADE',\n",
       "       'CAVE-IN/SINK HOLE (SEWER OR DRAINAGE RELATED)',\n",
       "       'ZONING CODE VIOLATION',\n",
       "       'REQUEST DEBRIS REMOVAL - PUBLIC PROPERTY',\n",
       "       'CONCRETE ROAD REPAIRS NEEDED',\n",
       "       'JUNK, TRASH, OR DEBRIS ON PRIVATE PROPERTY',\n",
       "       'MISSED GARBAGE PICKUP FOR DISABLED CUSTOMER', 'POTHOLE',\n",
       "       'NON-ROADSIDE EROSION ISSUE', 'DIRTY OR UNFENCED SWIMMING POOL',\n",
       "       'SEWER ODOR', 'SIDEWALK ISSUE',\n",
       "       'CAVE-IN/SINK HOLE (DRAINAGE RELATED)',\n",
       "       'REPAIR A BROKEN STREET CURB',\n",
       "       'NEW RESIDENT RECYCLING CART REQUEST',\n",
       "       'PROPERTY NEEDS TO BE CONDEMNED OR TORN DOWN',\n",
       "       'MINOR SIGNAL ISSUE', 'CATCH BASIN REPAIRS NEEDED',\n",
       "       'NEW RESIDENT REQUEST FOR GARBAGE CART',\n",
       "       'PICK UP UNWANTED RECYCLING CART',\n",
       "       'NON-ROADSIDE VEGETATION IN A DITCH', 'STOLEN RECYCLING CART',\n",
       "       'SHOULDER REPAIR NEEDED', 'LITTER FOR PICK-UP ON PUBLIC PROPERTY',\n",
       "       'PROPERTY MISSING WINDOWS OR DOORS',\n",
       "       'MISSED WHITE GOODS SERVICE/TIRES',\n",
       "       'REQUEST A TRAFFIC SIGNAL STUDY', 'REQUEST TRAFFIC CALMING STUDY',\n",
       "       'MISSED DEAD ANIMAL PICK-UP', 'NON-ROADSIDE DRAINAGE ISSUE',\n",
       "       'DAMAGE TO PERSONAL PROPERTY',\n",
       "       'REQUEST REMOVAL OF DEBRIS IN A DITCH/WATERWAY',\n",
       "       'ILLEGAL SIGN IN THE PUBLIC RIGHT-OF-WAY', 'MISSING MANHOLE COVER',\n",
       "       'BUILDING CODE VIOLATIONS', 'REQUEST STREET SWEEPING',\n",
       "       'REQUEST ADDITIONAL GARBAGE CART', 'DAMAGED STREET NAME SIGN',\n",
       "       'REQUEST FOR STREET GRADING',\n",
       "       'RESIDENTIAL DRAINAGE DISPUTE (CONSTRUCTION-RELATED)',\n",
       "       'REQUEST TO EXCHANGE GARBAGE CART (NON-DAMAGED)',\n",
       "       'ROAD BUCKLE/BLOWOUT/FAULT', 'REQUEST BARRICADE PICK-UP',\n",
       "       'REQUEST A STREET LIGHT', 'ROAD STRIPING NEEDED', 'FLOODING ISSUE',\n",
       "       'CHEMICAL SPILL OR LEAK', 'DAMAGED DRIVEWAY',\n",
       "       'CART LEFT AT CURBSIDE', 'PUBLIC TRASH RECEPTACLE MAINTENANCE',\n",
       "       'CONSTRUCTION TRASH/DEBRIS IN PUBLIC RIGHT-OF-WAY',\n",
       "       'BLIND STREET CORNER', 'ROADSIDE EROSION ISSUE',\n",
       "       'REQUEST A NO DUMPING SIGN', 'SIGN WITHOUT A PERMIT',\n",
       "       'LARGE DEAD ANIMAL FOR PICK-UP',\n",
       "       'NEW CONSTRUCTION ROAD FAILURE ISSUES',\n",
       "       'MISSING/DAMAGED STORMWATER DRAIN LID',\n",
       "       'UTILITY ISSUES (EXISTING UTILITIES BEING RELOCATED)',\n",
       "       'CONSTRUCTION SITE ISSUES', 'REQUEST STREET NAME SIGN',\n",
       "       'SCHOOL ZONE/SCHOOL FLASHER ISSUE', 'STORMDRAIN ISSUES',\n",
       "       'REQUEST DISABLED CUSTOMER PICK-UP SERVICES',\n",
       "       'MISSED PICKUP FOR DISABLED CUSTOMER',\n",
       "       'ILLEGAL DUMPING OF TRASH/SOLID WASTE', 'TIRE DUMPING',\n",
       "       'GUARDRAIL ISSUES', 'REQUEST DISABLED DOORFRONT RECYCLING SERVICE',\n",
       "       'DEFACED SIDEWALK', 'ILLEGAL PLACEMENT OF CULVERTS/PIPES',\n",
       "       'NEW CONSTRUCTION DRAINAGE ISSUES',\n",
       "       'NEW CONSTRUCTION TRASH/DEBRIS ISSUES',\n",
       "       'NEW CONSTRUCTION TRACKING MUD/DIRT ONTO STREETS',\n",
       "       'LAND CLEARING ISSUES',\n",
       "       'ZZZ (EXPIRED DO NOT USE) REQUEST SPECIAL DEBRIS COLLECTION',\n",
       "       'NEW CONSTRUCTION SIDEWALK FAILURE ISSUES',\n",
       "       'CAVE-IN/SINK HOLE (SEWER RELATED)',\n",
       "       'PARADE/RACE CLEAN-UP ROUTE ISSUES', 'REQUEST PUMP STATION MOWING',\n",
       "       'GREEN TRASH RECEPTACLE MAINTENANCE', 'WATER QUALITY ISSUES',\n",
       "       'UTILITY ISSUES (NEW UTILITIES BEING INSTALLED)',\n",
       "       'PORT O POTTY ISSUES', 'NEW CONSTRUCTION EROSION ISSUES',\n",
       "       'VEHICLE GAS TANK DUMPING/STOCKPILING', 'DAMAGED NO DUMPING SIGN',\n",
       "       'GRAVEL DRIVE ISSUES', 'REQUEST SPECIAL DEBRIS COLLECTION',\n",
       "       'DAMAGED GARBAGE CART - REPLACE LID OR WHEELS',\n",
       "       'MISSED WHITE GOODS SERVICE', 'ILLEGAL LANDFILLING'], dtype=object)"
      ]
     },
     "execution_count": 7,
     "metadata": {},
     "output_type": "execute_result"
    }
   ],
   "source": [
    "df['TYPE'].unique()"
   ]
  },
  {
   "cell_type": "code",
   "execution_count": 8,
   "metadata": {},
   "outputs": [],
   "source": [
    "df1 = df[df['PARENT TYPE'].str.contains('BLIGHTED PROPERTIES')]"
   ]
  },
  {
   "cell_type": "code",
   "execution_count": 9,
   "metadata": {},
   "outputs": [
    {
     "data": {
      "text/html": [
       "<div>\n",
       "<style scoped>\n",
       "    .dataframe tbody tr th:only-of-type {\n",
       "        vertical-align: middle;\n",
       "    }\n",
       "\n",
       "    .dataframe tbody tr th {\n",
       "        vertical-align: top;\n",
       "    }\n",
       "\n",
       "    .dataframe thead th {\n",
       "        text-align: right;\n",
       "    }\n",
       "</style>\n",
       "<table border=\"1\" class=\"dataframe\">\n",
       "  <thead>\n",
       "    <tr style=\"text-align: right;\">\n",
       "      <th></th>\n",
       "      <th>SERVICE REQUEST ID</th>\n",
       "      <th>STATUS</th>\n",
       "      <th>CREATE DATE</th>\n",
       "      <th>CLOSE DATE</th>\n",
       "      <th>LAST ACTION DATE</th>\n",
       "      <th>PARENT TYPE</th>\n",
       "      <th>TYPE</th>\n",
       "      <th>COMMENTS</th>\n",
       "      <th>STREET NUMBER</th>\n",
       "      <th>STREET NAME</th>\n",
       "      <th>...</th>\n",
       "      <th>Council District (Shapefile)</th>\n",
       "      <th>Neighborhood_BC</th>\n",
       "      <th>Council Districts</th>\n",
       "      <th>Neighborhoods</th>\n",
       "      <th>Shape tqy7 429i</th>\n",
       "      <th>Baton Rouge Council Districts</th>\n",
       "      <th>ZIP Codes</th>\n",
       "      <th>Council Districts_from_9v63_zwfd</th>\n",
       "      <th>Neighborhoods_from_qfmj_2fwi</th>\n",
       "      <th>ZIP Codes_from_tqy7_429i</th>\n",
       "    </tr>\n",
       "  </thead>\n",
       "  <tbody>\n",
       "    <tr>\n",
       "      <th>20</th>\n",
       "      <td>504285</td>\n",
       "      <td>OPEN</td>\n",
       "      <td>04/28/2019 04:12:00 PM</td>\n",
       "      <td>NaN</td>\n",
       "      <td>04/28/2019 04:12:00 PM</td>\n",
       "      <td>BLIGHTED PROPERTIES</td>\n",
       "      <td>JUNK, INOPERABLE, OR ABANDONED VEHICLE</td>\n",
       "      <td>AT ADDRESS 12023 MIRKWOOD AVE.  THERE IS TRASH...</td>\n",
       "      <td>12013</td>\n",
       "      <td>MIRKWOOD AVE</td>\n",
       "      <td>...</td>\n",
       "      <td>3.0</td>\n",
       "      <td>31.0</td>\n",
       "      <td>3.0</td>\n",
       "      <td>28.0</td>\n",
       "      <td>10.0</td>\n",
       "      <td>3.0</td>\n",
       "      <td>14.0</td>\n",
       "      <td>3.0</td>\n",
       "      <td>15.0</td>\n",
       "      <td>14.0</td>\n",
       "    </tr>\n",
       "    <tr>\n",
       "      <th>56</th>\n",
       "      <td>504248</td>\n",
       "      <td>OPEN</td>\n",
       "      <td>04/27/2019 06:57:00 PM</td>\n",
       "      <td>NaN</td>\n",
       "      <td>04/27/2019 06:57:00 PM</td>\n",
       "      <td>BLIGHTED PROPERTIES</td>\n",
       "      <td>TALL GRASS</td>\n",
       "      <td>THE BACK YARD IS FULL OF TALL GRASS AND OTHER ...</td>\n",
       "      <td>1768</td>\n",
       "      <td>MULLEN DR</td>\n",
       "      <td>...</td>\n",
       "      <td>3.0</td>\n",
       "      <td>31.0</td>\n",
       "      <td>3.0</td>\n",
       "      <td>28.0</td>\n",
       "      <td>10.0</td>\n",
       "      <td>3.0</td>\n",
       "      <td>14.0</td>\n",
       "      <td>3.0</td>\n",
       "      <td>15.0</td>\n",
       "      <td>14.0</td>\n",
       "    </tr>\n",
       "    <tr>\n",
       "      <th>92</th>\n",
       "      <td>504193</td>\n",
       "      <td>OPEN</td>\n",
       "      <td>04/27/2019 11:13:00 AM</td>\n",
       "      <td>NaN</td>\n",
       "      <td>04/27/2019 11:13:00 AM</td>\n",
       "      <td>BLIGHTED PROPERTIES</td>\n",
       "      <td>JUNK, TRASH, OR DEBRIS ON PRIVATE PROPERTY</td>\n",
       "      <td>DRUG ADDICTS ARE IN AND OUT OF THE HOUSE, DEBR...</td>\n",
       "      <td>NaN</td>\n",
       "      <td>NaN</td>\n",
       "      <td>...</td>\n",
       "      <td>NaN</td>\n",
       "      <td>NaN</td>\n",
       "      <td>NaN</td>\n",
       "      <td>NaN</td>\n",
       "      <td>NaN</td>\n",
       "      <td>NaN</td>\n",
       "      <td>NaN</td>\n",
       "      <td>NaN</td>\n",
       "      <td>NaN</td>\n",
       "      <td>NaN</td>\n",
       "    </tr>\n",
       "    <tr>\n",
       "      <th>125</th>\n",
       "      <td>504158</td>\n",
       "      <td>OPEN</td>\n",
       "      <td>04/26/2019 06:35:00 PM</td>\n",
       "      <td>NaN</td>\n",
       "      <td>04/26/2019 06:35:00 PM</td>\n",
       "      <td>BLIGHTED PROPERTIES</td>\n",
       "      <td>DIRTY OR UNFENCED SWIMMING POOL</td>\n",
       "      <td>SWIMMING POOL NEEDS MAINTENANCE AND FENCE REPA...</td>\n",
       "      <td>12109</td>\n",
       "      <td>LAKE SHERWOOD AVE N</td>\n",
       "      <td>...</td>\n",
       "      <td>8.0</td>\n",
       "      <td>34.0</td>\n",
       "      <td>8.0</td>\n",
       "      <td>31.0</td>\n",
       "      <td>18.0</td>\n",
       "      <td>8.0</td>\n",
       "      <td>23.0</td>\n",
       "      <td>8.0</td>\n",
       "      <td>28.0</td>\n",
       "      <td>23.0</td>\n",
       "    </tr>\n",
       "    <tr>\n",
       "      <th>126</th>\n",
       "      <td>504157</td>\n",
       "      <td>OPEN</td>\n",
       "      <td>04/26/2019 06:28:00 PM</td>\n",
       "      <td>NaN</td>\n",
       "      <td>04/26/2019 06:28:00 PM</td>\n",
       "      <td>BLIGHTED PROPERTIES</td>\n",
       "      <td>JUNK, TRASH, OR DEBRIS ON PRIVATE PROPERTY</td>\n",
       "      <td>WEDS. 4/24/19 WAS 4TH WEEK WITH NO TRASH PICKU...</td>\n",
       "      <td>15259</td>\n",
       "      <td>JOOR RD</td>\n",
       "      <td>...</td>\n",
       "      <td>4.0</td>\n",
       "      <td>50.0</td>\n",
       "      <td>4.0</td>\n",
       "      <td>46.0</td>\n",
       "      <td>20.0</td>\n",
       "      <td>4.0</td>\n",
       "      <td>21.0</td>\n",
       "      <td>4.0</td>\n",
       "      <td>24.0</td>\n",
       "      <td>21.0</td>\n",
       "    </tr>\n",
       "  </tbody>\n",
       "</table>\n",
       "<p>5 rows × 34 columns</p>\n",
       "</div>"
      ],
      "text/plain": [
       "     SERVICE REQUEST ID STATUS             CREATE DATE CLOSE DATE  \\\n",
       "20               504285   OPEN  04/28/2019 04:12:00 PM        NaN   \n",
       "56               504248   OPEN  04/27/2019 06:57:00 PM        NaN   \n",
       "92               504193   OPEN  04/27/2019 11:13:00 AM        NaN   \n",
       "125              504158   OPEN  04/26/2019 06:35:00 PM        NaN   \n",
       "126              504157   OPEN  04/26/2019 06:28:00 PM        NaN   \n",
       "\n",
       "           LAST ACTION DATE          PARENT TYPE  \\\n",
       "20   04/28/2019 04:12:00 PM  BLIGHTED PROPERTIES   \n",
       "56   04/27/2019 06:57:00 PM  BLIGHTED PROPERTIES   \n",
       "92   04/27/2019 11:13:00 AM  BLIGHTED PROPERTIES   \n",
       "125  04/26/2019 06:35:00 PM  BLIGHTED PROPERTIES   \n",
       "126  04/26/2019 06:28:00 PM  BLIGHTED PROPERTIES   \n",
       "\n",
       "                                           TYPE  \\\n",
       "20       JUNK, INOPERABLE, OR ABANDONED VEHICLE   \n",
       "56                                   TALL GRASS   \n",
       "92   JUNK, TRASH, OR DEBRIS ON PRIVATE PROPERTY   \n",
       "125             DIRTY OR UNFENCED SWIMMING POOL   \n",
       "126  JUNK, TRASH, OR DEBRIS ON PRIVATE PROPERTY   \n",
       "\n",
       "                                              COMMENTS STREET NUMBER  \\\n",
       "20   AT ADDRESS 12023 MIRKWOOD AVE.  THERE IS TRASH...         12013   \n",
       "56   THE BACK YARD IS FULL OF TALL GRASS AND OTHER ...          1768   \n",
       "92   DRUG ADDICTS ARE IN AND OUT OF THE HOUSE, DEBR...           NaN   \n",
       "125  SWIMMING POOL NEEDS MAINTENANCE AND FENCE REPA...         12109   \n",
       "126  WEDS. 4/24/19 WAS 4TH WEEK WITH NO TRASH PICKU...         15259   \n",
       "\n",
       "             STREET NAME  ... Council District (Shapefile) Neighborhood_BC  \\\n",
       "20          MIRKWOOD AVE  ...                          3.0            31.0   \n",
       "56             MULLEN DR  ...                          3.0            31.0   \n",
       "92                   NaN  ...                          NaN             NaN   \n",
       "125  LAKE SHERWOOD AVE N  ...                          8.0            34.0   \n",
       "126              JOOR RD  ...                          4.0            50.0   \n",
       "\n",
       "    Council Districts Neighborhoods Shape tqy7 429i  \\\n",
       "20                3.0          28.0            10.0   \n",
       "56                3.0          28.0            10.0   \n",
       "92                NaN           NaN             NaN   \n",
       "125               8.0          31.0            18.0   \n",
       "126               4.0          46.0            20.0   \n",
       "\n",
       "     Baton Rouge Council Districts  ZIP Codes  \\\n",
       "20                             3.0       14.0   \n",
       "56                             3.0       14.0   \n",
       "92                             NaN        NaN   \n",
       "125                            8.0       23.0   \n",
       "126                            4.0       21.0   \n",
       "\n",
       "    Council Districts_from_9v63_zwfd  Neighborhoods_from_qfmj_2fwi  \\\n",
       "20                               3.0                          15.0   \n",
       "56                               3.0                          15.0   \n",
       "92                               NaN                           NaN   \n",
       "125                              8.0                          28.0   \n",
       "126                              4.0                          24.0   \n",
       "\n",
       "     ZIP Codes_from_tqy7_429i  \n",
       "20                       14.0  \n",
       "56                       14.0  \n",
       "92                        NaN  \n",
       "125                      23.0  \n",
       "126                      21.0  \n",
       "\n",
       "[5 rows x 34 columns]"
      ]
     },
     "execution_count": 9,
     "metadata": {},
     "output_type": "execute_result"
    }
   ],
   "source": [
    "df1.head()"
   ]
  },
  {
   "cell_type": "code",
   "execution_count": 10,
   "metadata": {
    "scrolled": true
   },
   "outputs": [
    {
     "data": {
      "text/plain": [
       "(array([0, 1, 2, 3, 4, 5, 6]), <a list of 7 Text xticklabel objects>)"
      ]
     },
     "execution_count": 10,
     "metadata": {},
     "output_type": "execute_result"
    },
    {
     "data": {
      "image/png": "[encoded data removed]",
      "text/plain": [
       "<Figure size 864x648 with 1 Axes>"
      ]
     },
     "metadata": {
      "needs_background": "light"
     },
     "output_type": "display_data"
    }
   ],
   "source": [
    "# Visualizing the top 7 causes of blighted properties\n",
    "\n",
    "type_counts = df1['TYPE'].value_counts()\n",
    "type_counts = type_counts[:7,]\n",
    "plt.figure(figsize = (12,9))\n",
    "plt.rc('xtick',labelsize=8)\n",
    "plt.rc('ytick',labelsize=8)\n",
    "sns.barplot(type_counts.index, type_counts.values, alpha=0.5, color='b')\n",
    "plt.xticks(rotation=90)\n"
   ]
  },
  {
   "cell_type": "code",
   "execution_count": 11,
   "metadata": {},
   "outputs": [
    {
     "name": "stderr",
     "output_type": "stream",
     "text": [
      "C:\\Users\\Sophie\\Anaconda3\\lib\\site-packages\\ipykernel_launcher.py:1: SettingWithCopyWarning: \n",
      "A value is trying to be set on a copy of a slice from a DataFrame.\n",
      "Try using .loc[row_indexer,col_indexer] = value instead\n",
      "\n",
      "See the caveats in the documentation: http://pandas.pydata.org/pandas-docs/stable/indexing.html#indexing-view-versus-copy\n",
      "  \"\"\"Entry point for launching an IPython kernel.\n",
      "C:\\Users\\Sophie\\Anaconda3\\lib\\site-packages\\pandas\\core\\frame.py:3940: SettingWithCopyWarning: \n",
      "A value is trying to be set on a copy of a slice from a DataFrame\n",
      "\n",
      "See the caveats in the documentation: http://pandas.pydata.org/pandas-docs/stable/indexing.html#indexing-view-versus-copy\n",
      "  errors=errors)\n"
     ]
    }
   ],
   "source": [
    "df1['MONTH'] = pd.to_datetime(df1['CREATE DATE']).dt.to_period('M')\n",
    "df1.drop(['CREATE DATE'], axis=1, inplace=True)"
   ]
  },
  {
   "cell_type": "code",
   "execution_count": 12,
   "metadata": {},
   "outputs": [
    {
     "data": {
      "text/plain": [
       "20     2019-04\n",
       "56     2019-04\n",
       "92     2019-04\n",
       "125    2019-04\n",
       "126    2019-04\n",
       "Name: MONTH, dtype: period[M]"
      ]
     },
     "execution_count": 12,
     "metadata": {},
     "output_type": "execute_result"
    }
   ],
   "source": [
    "df1['MONTH'].head()"
   ]
  },
  {
   "cell_type": "code",
   "execution_count": 18,
   "metadata": {},
   "outputs": [
    {
     "data": {
      "text/plain": [
       "<matplotlib.axes._subplots.AxesSubplot at 0x1deb2ea4d30>"
      ]
     },
     "execution_count": 18,
     "metadata": {},
     "output_type": "execute_result"
    },
    {
     "data": {
      "image/png": "[encoded data removed]",
      "text/plain": [
       "<Figure size 1080x720 with 1 Axes>"
      ]
     },
     "metadata": {
      "needs_background": "light"
     },
     "output_type": "display_data"
    }
   ],
   "source": [
    "plot = df1.groupby('MONTH').size().reset_index(name='Number of Incidents').set_index('MONTH')\n",
    "plot.plot(kind=\"line\", figsize=(15, 10), fontsize=13)"
   ]
  },
  {
   "cell_type": "code",
   "execution_count": 14,
   "metadata": {},
   "outputs": [
    {
     "data": {
      "text/plain": [
       "CLOSED         14737\n",
       "IN PROGRESS     9712\n",
       "OPEN              68\n",
       "Name: STATUS, dtype: int64"
      ]
     },
     "execution_count": 14,
     "metadata": {},
     "output_type": "execute_result"
    }
   ],
   "source": [
    "df1['STATUS'].value_counts()"
   ]
  }
 ],
 "metadata": {
  "kernelspec": {
   "display_name": "Python 3",
   "language": "python",
   "name": "python3"
  },
  "language_info": {
   "codemirror_mode": {
    "name": "ipython",
    "version": 3
   },
   "file_extension": ".py",
   "mimetype": "text/x-python",
   "name": "python",
   "nbconvert_exporter": "python",
   "pygments_lexer": "ipython3",
   "version": "3.6.7"
  }
 },
 "nbformat": 4,
 "nbformat_minor": 2
}
